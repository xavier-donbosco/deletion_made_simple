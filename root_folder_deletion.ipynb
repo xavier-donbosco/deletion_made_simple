{
 "cells": [
  {
   "cell_type": "code",
   "execution_count": 0,
   "metadata": {
    "application/vnd.databricks.v1+cell": {
     "cellMetadata": {
      "byteLimit": 2048000,
      "rowLimit": 10000
     },
     "inputWidgets": {},
     "nuid": "028fcd34-d8b6-4534-921e-ce06d29d9086",
     "showTitle": false,
     "title": ""
    }
   },
   "outputs": [
    {
     "output_type": "display_data",
     "data": {
      "text/html": [
       "<style scoped>\n",
       "  .ansiout {\n",
       "    display: block;\n",
       "    unicode-bidi: embed;\n",
       "    white-space: pre-wrap;\n",
       "    word-wrap: break-word;\n",
       "    word-break: break-all;\n",
       "    font-family: \"Menlo\", \"Monaco\", \"Consolas\", \"Ubuntu Mono\", \"Source Code Pro\", monospace;\n",
       "    font-size: 13px;\n",
       "    color: #555;\n",
       "    margin-left: 4px;\n",
       "    line-height: 19px;\n",
       "  }\n",
       "</style>\n",
       "<div class=\"ansiout\">&#39;dbfs:/mnt/poc/a/buy_type_check.csv&#39; deleted successfully !!!\n",
       "&#39;dbfs:/mnt/poc/a/a/&#39; deleted successfully !!!\n",
       "&#39;dbfs:/mnt/poc/a/a/&#39; deleted successfully !!!\n",
       "&#39;dbfs:/mnt/poc/a/&#39; deleted successfully !!!\n",
       "&#39;dbfs:/mnt/poc/b/&#39; deleted successfully !!!\n",
       "&#39;dbfs:/mnt/poc/c/&#39; deleted successfully !!!\n",
       "</div>"
      ]
     },
     "metadata": {
      "application/vnd.databricks.v1+output": {
       "addedWidgets": {},
       "arguments": {},
       "data": "<div class=\"ansiout\">&#39;dbfs:/mnt/poc/a/buy_type_check.csv&#39; deleted successfully !!!\n&#39;dbfs:/mnt/poc/a/a/&#39; deleted successfully !!!\n&#39;dbfs:/mnt/poc/a/a/&#39; deleted successfully !!!\n&#39;dbfs:/mnt/poc/a/&#39; deleted successfully !!!\n&#39;dbfs:/mnt/poc/b/&#39; deleted successfully !!!\n&#39;dbfs:/mnt/poc/c/&#39; deleted successfully !!!\n</div>",
       "datasetInfos": [],
       "metadata": {},
       "removedWidgets": [],
       "type": "html"
      }
     },
     "output_type": "display_data"
    }
   ],
   "source": [
    "# Importing concurrent.futures to use threadpool and logging for displaying the file deletion status\n",
    "import concurrent.futures\n",
    "import logging\n",
    "# Setting logger\n",
    "logger = logging.getLogger(\"error\")\n",
    "\n",
    "class DirDelete:\n",
    "    # remove is a function which is used to\n",
    "    # 1. remove the file path which we are providing\n",
    "    # 2. displaying the success message\n",
    "    # @param -> file_path -> is the file path which we want to delete\n",
    "    @staticmethod\n",
    "    def remove(file_path):\n",
    "        dbutils.fs.rm(file_path, True)\n",
    "        logger.warning(f\"'{file_path}' deleted successfully !!!\")\n",
    "\n",
    "    # get_files_delete is a function which is used to\n",
    "    # 1. list the file path to search if it's directory or file\n",
    "    # 2. if it's directory, it will call the functions recursively\n",
    "    # 3. if it's file, it will delete the file\n",
    "    # @param -> file -> is the path of the directory/file which needs to be deleted\n",
    "    @staticmethod\n",
    "    def get_files_delete(file):\n",
    "        sub_dir_path = dbutils.fs.ls(file.path)\n",
    "        def delete_files(path) :\n",
    "            if path[-1] == \"/\" and len(dbutils.fs.ls(path)) != 0:\n",
    "                DirDelete.delete_files_and_folders(file.path)\n",
    "            elif path[-1] != \"/\" or len(dbutils.fs.ls(path)) == 0:\n",
    "                DirDelete.remove(file.path)\n",
    "        paths = [item.path for item in sub_dir_path]\n",
    "        list(map(lambda x: delete_files(x), paths))\n",
    "\n",
    "    # thread_pool is a function which is used to\n",
    "    # 1. execute a given function concurrently on multiple threads.\n",
    "    # @param -> fun_name -> is the function to be executed concurrently.\n",
    "    # @param -> responses -> is a list of arguments to be passed to the function.\n",
    "    # @param -> max_workers -> is the maximum number of worker threads to use. Defaults to 32.\n",
    "    @staticmethod\n",
    "    def thread_pool(fun_name, responses, max_workers=32):\n",
    "        with concurrent.futures.ThreadPoolExecutor(max_workers=max_workers) as executor:\n",
    "            futures = [executor.submit(fun_name, response) for response in responses]\n",
    "            concurrent.futures.wait(futures)\n",
    "\n",
    "    # delete_files_and_folders is a function which is used to\n",
    "    # 1. list the files under a given root folder\n",
    "    # 2. assign list of files to be delted to the function to thread pool function\n",
    "    # 3. after the deletion search and delete any empty directories\n",
    "    @staticmethod\n",
    "    def delete_files_and_folders(directory):\n",
    "        files = dbutils.fs.ls(directory)\n",
    "        DirDelete.thread_pool(DirDelete.get_files_delete, files)\n",
    "        list(map(lambda x: DirDelete.remove(x.path), dbutils.fs.ls(directory)))\n",
    "# root directory path which needs to be deleted\n",
    "root_directory = \"dbfs:/mnt/poc/\"\n",
    "# calling delete_files_and_folders with the root directory as parameter\n",
    "DirDelete.delete_files_and_folders(root_directory)"
   ]
  }
 ],
 "metadata": {
  "application/vnd.databricks.v1+notebook": {
   "dashboards": [],
   "language": "python",
   "notebookMetadata": {
    "mostRecentlyExecutedCommandWithImplicitDF": {
     "commandId": 3446402651041489,
     "dataframes": [
      "_sqldf"
     ]
    },
    "pythonIndentUnit": 4
   },
   "notebookName": "root_folder_deletion",
   "widgets": {}
  }
 },
 "nbformat": 4,
 "nbformat_minor": 0
}
